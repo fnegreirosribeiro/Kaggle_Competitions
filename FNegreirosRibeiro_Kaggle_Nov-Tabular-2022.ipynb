{
 "cells": [
  {
   "cell_type": "markdown",
   "id": "d7b0746c-d0b3-443a-8674-116acfeb9350",
   "metadata": {},
   "source": [
    "# Introduction\n",
    "\n",
    "This Kaggle competition is about combining different predictions to generate a new one with superior performance, i.e., it is about ensembles. The exercise was interesting, however, there was nearly no data analysis or data engineering, it was very focused on performance, and extracting every bit of performance one can get from different methods. Nevertheless, it was still really fun to participate, and I learned quite a lot.\n",
    "\n",
    "## Libraries"
   ]
  },
  {
   "cell_type": "code",
   "execution_count": 1,
   "id": "af844c6d-5b86-478b-8481-bb96f8507edf",
   "metadata": {
    "tags": []
   },
   "outputs": [],
   "source": [
    "import os\n",
    "import pandas as pd\n",
    "import numpy as np\n",
    "import matplotlib.pyplot as plt\n",
    "import seaborn as sns\n",
    "from pathlib import Path\n",
    "import random\n",
    "\n",
    "from sklearn.linear_model import LogisticRegression\n",
    "from sklearn.model_selection import train_test_split\n",
    "from sklearn.model_selection import GridSearchCV, KFold, cross_val_score\n",
    "from sklearn.metrics import log_loss,make_scorer\n",
    "from catboost import CatBoostClassifier\n",
    "\n",
    "from sklearn.decomposition import PCA"
   ]
  },
  {
   "cell_type": "code",
   "execution_count": 2,
   "id": "7c17a4e9-cad9-449e-9198-4d676217600d",
   "metadata": {
    "tags": []
   },
   "outputs": [],
   "source": [
    "submission = pd.read_csv('sample_submission.csv', index_col='id')\n",
    "labels = pd.read_csv('train_labels.csv', index_col='id')\n",
    "sub_ids = submission.index\n",
    "gt_ids = labels.index \n",
    "subs = sorted(os.listdir('./Data'))"
   ]
  },
  {
   "cell_type": "markdown",
   "id": "d5e54ed9-4ac9-49e7-8185-d95237aa88ac",
   "metadata": {},
   "source": [
    "Saving all the submissions in a single dataframe. The submissions with very low standard deviations, which means that all predictions are about the same, will be dropped. If all predictions are of a single class, the submission will also be removed. If the predictions contain values below 0 or above 1, they will also be discarded, since there are only about 40 of these cases and they might be associated with wrong modelling. Finally, submissions too strongly correlated will also be dropped. The 0.97 number was chosen empirically, after trying with 0.96, 0.98 and 0.99. It does not change the final result, as long as it is not much smaller. "
   ]
  },
  {
   "cell_type": "code",
   "execution_count": 3,
   "id": "baf9fcae-4a44-4193-aaf0-858ad4b8d599",
   "metadata": {},
   "outputs": [
    {
     "name": "stdout",
     "output_type": "stream",
     "text": [
      "1000  steps performed.\n",
      "2000  steps performed.\n",
      "3000  steps performed.\n",
      "4000  steps performed.\n",
      "5000  steps performed.\n"
     ]
    }
   ],
   "source": [
    "# loop to add each submission to a single dataframe\n",
    "std_thr=0.01  # If a column has a standard deviation lower than 0.01, don't add it\n",
    "corr_thr=0.97 # If a column has a too large correlation with any of the other columns, don't add it to the dataframe\n",
    "\n",
    "for i,sub in enumerate(subs):\n",
    "    if (i+1) % 1000 == 0:\n",
    "        print(i+1,\" steps performed.\")\n",
    "        \n",
    "    df_temp = pd.read_csv('Data/'+sub, index_col='id')\n",
    "    \n",
    "    # Cut by standard deviation\n",
    "    if np.std(df_temp)[0]<std_thr:\n",
    "        continue\n",
    "\n",
    "    # If it contains values above 1 or below zero, drop        \n",
    "    if ( (np.min(df_temp)[0] < 0) | (np.max(df_temp)[0] > 1) ):\n",
    "        continue    \n",
    "        \n",
    "    # If nearly all observations belong to the same class, drop\n",
    "    if ( (df_temp > 0.5).sum()[0] > 39990 | (df_temp < 0.5).sum()[0] > 39990 ):\n",
    "        continue\n",
    "        \n",
    "    # Compare the correlation of the new column with each column of df, if any of these values are too high, ignore the column\n",
    "    name='pred_'+str(i)\n",
    "    df_temp.columns=[name]\n",
    "    if i == 0:\n",
    "        df=df_temp\n",
    "        continue\n",
    "    else:\n",
    "        a=df.corrwith(df_temp[name])\n",
    "        if all(abs(a) < corr_thr):\n",
    "            df=pd.concat([df,df_temp],axis=1)"
   ]
  },
  {
   "cell_type": "code",
   "execution_count": 4,
   "id": "fb3c2579-5df9-4164-be14-0a6fbb152d5b",
   "metadata": {},
   "outputs": [
    {
     "name": "stdout",
     "output_type": "stream",
     "text": [
      "(40000, 1457)\n",
      "<class 'pandas.core.frame.DataFrame'>\n",
      "Int64Index: 40000 entries, 0 to 39999\n",
      "Columns: 1457 entries, pred_0 to pred_4999\n",
      "dtypes: float64(1457)\n",
      "memory usage: 444.9 MB\n",
      "None\n"
     ]
    }
   ],
   "source": [
    "# Info on the dataframe\n",
    "print(df.shape)\n",
    "print(df.info())"
   ]
  },
  {
   "cell_type": "markdown",
   "id": "e0d294c7-8d5d-4546-b40a-d21dd357971b",
   "metadata": {},
   "source": [
    "So it started with 5000 submissions, and removing bad or strongly correlated features reduced the total number to about 1500 submissions.\n",
    "\n",
    "# Exploratory data Analysis\n",
    "\n",
    "This was performed in a previous notebook. The main conclusions were that the submissions are unbalanced, while the target column is perfectly balanced. There are no missing values and a few cases where the predictions were out of bound, less than 0 or larger than 1.\n",
    "\n",
    "Due to these negative and larger than 1 values, all values will be forced to be inside the 0-1 range."
   ]
  },
  {
   "cell_type": "code",
   "execution_count": 5,
   "id": "fd3a8597-c101-4fd6-8162-445054fe431d",
   "metadata": {},
   "outputs": [
    {
     "name": "stdout",
     "output_type": "stream",
     "text": [
      "Min, Max:  0.0001 0.9999\n"
     ]
    }
   ],
   "source": [
    "# Well behaved values\n",
    "for col in df.columns:        \n",
    "    a=df[col].apply(lambda x:max(x,0.0001))\n",
    "    a=a.apply(lambda x:min(x,0.9999))\n",
    "    df[col]=a\n",
    "print(\"Min, Max: \",np.min(np.min(df)),np.max(np.max(df)))"
   ]
  },
  {
   "cell_type": "markdown",
   "id": "9f3f220c-c945-4bea-84f8-18577ca8d306",
   "metadata": {},
   "source": [
    "So now one has about 1500 submissions, each with values between 0.0001 and 0.9999. Let's optimize each submission by searching for negative shifts that might improve their score. Defining a function for this:"
   ]
  },
  {
   "cell_type": "code",
   "execution_count": 98,
   "id": "b51848c0-73d8-4938-920b-5c1e47fa592c",
   "metadata": {},
   "outputs": [],
   "source": [
    "def shifting3(df):\n",
    "    # array containing the original and new scores: to be returned\n",
    "    scores=[]\n",
    "    \n",
    "    # A new dataframe will be returned\n",
    "    new_df=df.copy()\n",
    "\n",
    "    # Displacement delta: the lower the value, the more accurate, and the slower the calculation\n",
    "    disp=0.002\n",
    "\n",
    "    # Main loop: to every column, optimize the score of the column \n",
    "    counter=0\n",
    "    for col in new_df.columns:\n",
    "        # Original score\n",
    "        X_previous=new_df[col].copy()\n",
    "        X_previous=X_previous[:20000]\n",
    "        original_score=log_loss(labels,X_previous)        \n",
    "        \n",
    "        best_i_pos=0\n",
    "        best_i_neg=0\n",
    "        best_score_pos = original_score\n",
    "        best_score_neg = original_score\n",
    "\n",
    "        # Finding out the optimizal positive and negative displacement \n",
    "        for i in range(1,200):\n",
    "            X_new=X_previous.apply(lambda x: (x+i*disp) if x >= 0.5 else x)\n",
    "            X_new=X_new.apply(lambda x:min(x,0.9999))    # To be sure that no value is lower than 0.0001\n",
    "            new_score=log_loss(labels,X_new)\n",
    "            if new_score < best_score_pos:\n",
    "                best_i_pos=i\n",
    "                best_score_pos=new_score\n",
    "            else:\n",
    "                break\n",
    "        for i in range(1,200):\n",
    "            X_new=X_previous.apply(lambda x: (x+i*disp) if x < 0.5 else x)    \n",
    "            X_new=X_new.apply(lambda x:max(x,0.0001))    # To be sure that no value is lower than 0.0001\n",
    "            new_score=log_loss(labels,X_new)\n",
    "            if new_score < best_score_neg:\n",
    "                best_i_neg=i\n",
    "                best_score_neg=new_score\n",
    "            else:\n",
    "                break\n",
    "\n",
    "        # Applying the optimal shifts\n",
    "        new_df[col] = new_df[col].apply(lambda x: (x+best_i_pos*disp) if x > 0.5 else (x+best_i_neg*disp))        \n",
    "        new_df[col]=new_df[col].apply(lambda x:min(x,0.9999))\n",
    "        new_df[col]=new_df[col].apply(lambda x:max(x,0.0001))\n",
    "        new_score=log_loss(labels, new_df[col][:20000])\n",
    "        \n",
    "        scores.append([original_score,new_score])\n",
    "        counter+=1\n",
    "        if counter % 100 == 0:\n",
    "            print(counter,\"steps performed.\")\n",
    "\n",
    "    return scores,new_df"
   ]
  },
  {
   "cell_type": "code",
   "execution_count": 99,
   "id": "43255e5b-34a9-4f82-a583-e84681308d42",
   "metadata": {},
   "outputs": [
    {
     "name": "stdout",
     "output_type": "stream",
     "text": [
      "100 steps performed.\n",
      "200 steps performed.\n",
      "300 steps performed.\n",
      "400 steps performed.\n",
      "500 steps performed.\n",
      "600 steps performed.\n",
      "700 steps performed.\n",
      "800 steps performed.\n",
      "900 steps performed.\n",
      "1000 steps performed.\n",
      "1100 steps performed.\n",
      "1200 steps performed.\n",
      "1300 steps performed.\n",
      "1400 steps performed.\n"
     ]
    }
   ],
   "source": [
    "scores3,df3=shifting3(df)"
   ]
  },
  {
   "cell_type": "code",
   "execution_count": 100,
   "id": "2407c2d1-f21c-45db-be49-6796cbc58c90",
   "metadata": {},
   "outputs": [
    {
     "data": {
      "image/png": "[encoded data removed]",
      "text/plain": [
       "<Figure size 432x288 with 1 Axes>"
      ]
     },
     "metadata": {
      "needs_background": "light"
     },
     "output_type": "display_data"
    }
   ],
   "source": [
    "scores3=pd.DataFrame(scores3)\n",
    "plt.plot(list(range(len(scores3))),scores3.iloc[:,0],color='black');\n",
    "plt.plot(list(range(len(scores3))),scores3.iloc[:,1],color='red');"
   ]
  },
  {
   "cell_type": "markdown",
   "id": "8c9b5d95-8576-4b5f-b1d7-2eb6c29a559f",
   "metadata": {},
   "source": [
    "Repeating the same procedure, but taking into account the negative displacements."
   ]
  },
  {
   "cell_type": "code",
   "execution_count": 101,
   "id": "0754d622-1823-4b93-bfd1-4b9191d93925",
   "metadata": {},
   "outputs": [],
   "source": [
    "def shifting4(df):\n",
    "    # array containing the original and new scores: to be returned\n",
    "    scores=[]\n",
    "    \n",
    "    # A new dataframe will be returned\n",
    "    new_df=df.copy()\n",
    "\n",
    "    # Displacement delta: the lower the value, the more accurate, and the slower the calculation\n",
    "    disp=0.002\n",
    "\n",
    "    # Main loop: to every column, optimize the score of the column \n",
    "    counter=0\n",
    "    for col in new_df.columns:\n",
    "        # Original score\n",
    "        X_previous=new_df[col].copy()\n",
    "        X_previous=X_previous[:20000]\n",
    "        original_score=log_loss(labels,X_previous)        \n",
    "        \n",
    "        best_i_pos=0\n",
    "        best_i_neg=0\n",
    "        best_score_pos = original_score\n",
    "        best_score_neg = original_score\n",
    "\n",
    "        # Finding out the optimizal positive and negative displacement \n",
    "        for i in range(1,200):\n",
    "            X_new=X_previous.apply(lambda x: (x-i*disp) if x >= 0.5 else x)\n",
    "            X_new=X_new.apply(lambda x:min(x,0.9999))    # To be sure that no value is higher than 0.9999\n",
    "            new_score=log_loss(labels,X_new)\n",
    "            if new_score < best_score_pos:\n",
    "                best_i_pos=i\n",
    "                best_score_pos=new_score\n",
    "            else:\n",
    "                break\n",
    "        for i in range(1,200):\n",
    "            X_new=X_previous.apply(lambda x: (x-i*disp) if x < 0.5 else x)    \n",
    "            X_new=X_new.apply(lambda x:max(x,0.0001))    # To be sure that no value is lower than 0.0001\n",
    "            new_score=log_loss(labels,X_new)\n",
    "            if new_score < best_score_neg:\n",
    "                best_i_neg=i\n",
    "                best_score_neg=new_score\n",
    "            else:\n",
    "                break\n",
    "\n",
    "        # Applying the optimal shifts\n",
    "        new_df[col] = new_df[col].apply(lambda x: (x-best_i_pos*disp) if x > 0.5 else (x-best_i_neg*disp))        \n",
    "        new_df[col]=new_df[col].apply(lambda x:max(x,0.0001))\n",
    "        new_df[col]=new_df[col].apply(lambda x:min(x,0.9999))\n",
    "        new_score=log_loss(labels, new_df[col][:20000])\n",
    "        \n",
    "        scores.append([original_score,new_score])\n",
    "        counter+=1\n",
    "        if counter % 100 == 0:\n",
    "            print(counter,\"steps performed.\")\n",
    "\n",
    "    return scores,new_df"
   ]
  },
  {
   "cell_type": "code",
   "execution_count": 102,
   "id": "1ccdf434-59b0-42b0-9e46-a6a16781e173",
   "metadata": {},
   "outputs": [
    {
     "name": "stdout",
     "output_type": "stream",
     "text": [
      "100 steps performed.\n",
      "200 steps performed.\n",
      "300 steps performed.\n",
      "400 steps performed.\n",
      "500 steps performed.\n",
      "600 steps performed.\n",
      "700 steps performed.\n",
      "800 steps performed.\n",
      "900 steps performed.\n",
      "1000 steps performed.\n",
      "1100 steps performed.\n",
      "1200 steps performed.\n",
      "1300 steps performed.\n",
      "1400 steps performed.\n"
     ]
    },
    {
     "data": {
      "image/png": "[encoded data removed]",
      "text/plain": [
       "<Figure size 432x288 with 1 Axes>"
      ]
     },
     "metadata": {
      "needs_background": "light"
     },
     "output_type": "display_data"
    }
   ],
   "source": [
    "scores4,df4=shifting4(df3)\n",
    "\n",
    "scores4=pd.DataFrame(scores4)\n",
    "plt.plot(list(range(len(scores4))),scores3.iloc[:,0],color='black');\n",
    "plt.plot(list(range(len(scores4))),scores4.iloc[:,1],color='red');"
   ]
  },
  {
   "cell_type": "markdown",
   "id": "8cf51ff6-0dd0-409d-a359-f6db867319b3",
   "metadata": {},
   "source": [
    "Before modelling, let's check how can one change the original dataset as to improve the final predictions."
   ]
  },
  {
   "cell_type": "markdown",
   "id": "8f006056-c45a-44f1-b37f-e6c38f999217",
   "metadata": {},
   "source": [
    "# Shifting and scaling the submissions\n",
    "\n",
    "In the previous EDA section, it was noted that the target column is perfectly balanced, with 50/50% of 0/1 predictions. The 5000 submissions are, however, mostly unbalanced. Many things can be done in order to \"remedy\" this. Directly modelling the dataframe using a logistic regression or other methods is one way to do it. One can also shift/scale the submissions, creating a more balanced dataset. The main objective in the end is to get a better performance in the validation set.\n",
    "\n",
    "The main idea of this work is: first, transform the submissions back to the \"real\" space, between -inf and inf, using the logit function. Then shift the median to the origin, so that half of the predictions are in the positive axis, and the other half in the negative. Then we inverse it back to the probability space. In this process, the original shape and deviation of the curve is lost. This could negatively affect the performance. Since the original standard deviation of the probabilities can be restored, a _scale_ parameter will be used, with the following properties:\n",
    "1. If it is 1, then the standard deviation is completely restored;\n",
    "2. If it is smaller than 1, then it will be partially restored. Do note that if it is too close to zero, then most of the predictions will be close to the media, 0.5, centered around it, meaning that all submissions will be quite similar. \n",
    "3. It it is negative, then the original standard deviation will be completely ignored, and the transformation will only shift to the median.\n",
    "\n",
    "The _scale_ parameter will be adjusted to give a maximum score in the validation set.\n",
    "\n",
    "Defining the functions:"
   ]
  },
  {
   "cell_type": "code",
   "execution_count": 65,
   "id": "43bb22fc-e7e9-4d57-8310-fa16644272cd",
   "metadata": {
    "tags": []
   },
   "outputs": [],
   "source": [
    "# Useful functions\n",
    "def expit(s):\n",
    "    a=np.exp(-s)\n",
    "    return 1/(1+a)\n",
    "def logit(s):\n",
    "    p=np.log(s)\n",
    "    return p/(1-p)\n",
    "\n",
    "# Shifting - restoring the original deviation up to a 'scale' value\n",
    "def shift_norm_rest(d,scale):    \n",
    "    out=d.copy()\n",
    "    for col in out.columns:        \n",
    "        delta_prev=np.max(out[col])-np.min(out[col]) # Store the original deviation\n",
    "\n",
    "        # Shifting\n",
    "        l=logit(out[col])\n",
    "        l=l-np.median(l)\n",
    "        shifted=expit(l)\n",
    "        \n",
    "        delta_aft=np.max(shifted)-np.min(shifted) # Evaluate the new deviation\n",
    "        \n",
    "        if scale > 0:\n",
    "            # Restoring the original deviation up to a scale factor\n",
    "            shifted=(shifted-0.5)*(delta_prev/delta_aft)*scale + 0.5 \n",
    "        \n",
    "        # Normalizing\n",
    "        shifted=shifted.apply(lambda x:max(x,0.0001))\n",
    "        shifted=shifted.apply(lambda x:min(x,0.9999))\n",
    "        \n",
    "        out[col]=shifted\n",
    "\n",
    "    return out"
   ]
  },
  {
   "cell_type": "markdown",
   "id": "5a6a7f5d-513c-4c3d-8926-984ba879fe74",
   "metadata": {},
   "source": [
    "Checking the effects of shifting/scaling the original submissions for 50 randomly chosen features (the larger the number of features selected, the slower the kde plot, so it is not advised to plot all data)."
   ]
  },
  {
   "cell_type": "code",
   "execution_count": 66,
   "id": "530e82ca-e65e-426e-b65d-5fd8b46e8471",
   "metadata": {},
   "outputs": [],
   "source": [
    "# Arrays to store the data\n",
    "unmodified=[]\n",
    "modified_scale0=[]\n",
    "modified_scale1=[]\n",
    "modified_scale2=[]\n",
    "\n",
    "# Choose 50 random columns\n",
    "random_set = set()\n",
    "for i in range(0,50):\n",
    "    random_set.add(random.randint(0,df4.shape[1]-1))\n",
    "analysis=df4.iloc[:,list(random_set)].copy()\n",
    "\n",
    "# Store the unmodified data\n",
    "for col in analysis.columns:\n",
    "    for value in analysis[col].values:\n",
    "        unmodified.append(value.astype(float))\n",
    "\n",
    "# Store the shifted data without any scaling\n",
    "a0=shift_norm_rest(analysis,-1)\n",
    "for col in a0.columns:\n",
    "    for value in a0[col]:\n",
    "        modified_scale0.append(value)\n",
    "        \n",
    "# Store the shifted data with scale 1\n",
    "a1=shift_norm_rest(analysis,1)\n",
    "for col in a1.columns:\n",
    "    for value in a1[col]:\n",
    "        modified_scale1.append(value)\n",
    "\n",
    "# Store the shifted data with scale 0.5    \n",
    "a2=shift_norm_rest(analysis,0.5)\n",
    "for col in a2.columns:\n",
    "    for value in a2[col]:\n",
    "        modified_scale2.append(value)"
   ]
  },
  {
   "cell_type": "code",
   "execution_count": 67,
   "id": "de32a716-246f-4193-9bd0-f76987056be1",
   "metadata": {},
   "outputs": [
    {
     "data": {
      "image/png": "[encoded data removed]",
      "text/plain": [
       "<Figure size 432x288 with 1 Axes>"
      ]
     },
     "metadata": {
      "needs_background": "light"
     },
     "output_type": "display_data"
    }
   ],
   "source": [
    "sns.kdeplot(unmodified,color='black');\n",
    "sns.kdeplot(modified_scale0,color='green');\n",
    "sns.kdeplot(modified_scale1,color='red');\n",
    "sns.kdeplot(modified_scale2,color='blue');\n",
    "plt.xlim(-0.01,1.01);"
   ]
  },
  {
   "cell_type": "markdown",
   "id": "4f3fae72-bb65-4f30-9eb5-f1d30866d6e4",
   "metadata": {},
   "source": [
    "The black curve illustrated how the unmodified predictions are biased toward the _1_ class. Shifting without restoring (green curve) gives a much more balanced output, at the cost of significantly changing the original submission. Shifting and restoring the original standard deviation gives a broader range of predictions, with a range that can be adjusted with the value of _scale_. Reducing it from 1 to zero makes the peak sharper, putting less weight in the predictions that are close to 0 or 1, which can be good since a wrong prediction (0 instead of 1) is strongly penalized, while a less wrong one (0.4 instead of 1) is not that terrible.\n",
    "\n",
    "Now let's model the unmodified and modified datasets.\n",
    "\n",
    "# Modelling"
   ]
  },
  {
   "cell_type": "markdown",
   "id": "c7f7d393-7bbf-47bf-be61-401bebd0f5e7",
   "metadata": {},
   "source": [
    "Setting the train/val/test datasets."
   ]
  },
  {
   "cell_type": "code",
   "execution_count": 106,
   "id": "7c3d8798-e416-4e7b-9d29-9fb6d4388ea2",
   "metadata": {},
   "outputs": [
    {
     "name": "stdout",
     "output_type": "stream",
     "text": [
      "(20000, 1457) (20000, 1457)\n"
     ]
    }
   ],
   "source": [
    "X_test=df4[20000:]\n",
    "X=df4[:20000]\n",
    "y=np.ravel(labels)\n",
    "print(X.shape,X_test.shape)"
   ]
  },
  {
   "cell_type": "markdown",
   "id": "a6834776-bb58-4f38-87c6-bfc9d261d74f",
   "metadata": {
    "tags": []
   },
   "source": [
    "## Using the original submissions\n",
    "\n",
    "Since there are many features, too many for the number of observations at least, one could consider a dimensionality reduction."
   ]
  },
  {
   "cell_type": "code",
   "execution_count": 69,
   "id": "3ade2d36-fedf-4d8c-b980-f809abf2447d",
   "metadata": {},
   "outputs": [],
   "source": [
    "pca = PCA()\n",
    "X_train_pca = pca.fit_transform(X_train)\n",
    "X_val_pca = pca.transform(X_val)\n",
    "#X_test_pca = pca.transform(X_test)\n",
    "explained_variance = pd.Series(pca.explained_variance_ratio_)"
   ]
  },
  {
   "cell_type": "code",
   "execution_count": 70,
   "id": "ecedace7-0cfb-45d1-bbef-01147f9b1033",
   "metadata": {},
   "outputs": [
    {
     "name": "stdout",
     "output_type": "stream",
     "text": [
      "count    1.457000e+03\n",
      "mean     6.863418e-04\n",
      "std      2.179164e-02\n",
      "min      1.597833e-07\n",
      "25%      1.557436e-05\n",
      "50%      2.963527e-05\n",
      "75%      6.084046e-05\n",
      "max      8.312907e-01\n",
      "dtype: float64\n"
     ]
    },
    {
     "data": {
      "image/png": "[encoded data removed]",
      "text/plain": [
       "<Figure size 864x432 with 2 Axes>"
      ]
     },
     "metadata": {
      "needs_background": "light"
     },
     "output_type": "display_data"
    }
   ],
   "source": [
    "print(explained_variance.describe())\n",
    "f,ax = plt.subplots(nrows=1,ncols=2,figsize=(12,6))\n",
    "ax[0].plot(explained_variance);\n",
    "ax[0].set_ylim(0,0.001);\n",
    "ax[1].plot(np.cumsum(explained_variance));"
   ]
  },
  {
   "cell_type": "markdown",
   "id": "da9e58d5-d176-46fa-b2ec-0df0ce53bfef",
   "metadata": {},
   "source": [
    "So 83% of the variance is explained with just a single component, 90% with 7 and 99% with about 1000. Let's check the performance of 7 components, a reasonable number of features given the 20000 points dataset:"
   ]
  },
  {
   "cell_type": "code",
   "execution_count": 71,
   "id": "504e98eb-6fb6-494e-ac12-b794d3a022d2",
   "metadata": {},
   "outputs": [
    {
     "name": "stdout",
     "output_type": "stream",
     "text": [
      "7 components:  0.5406 0.536\n"
     ]
    }
   ],
   "source": [
    "com7_train=X_train_pca[:,:7]\n",
    "com7_val=X_val_pca[:,:7]\n",
    "\n",
    "model = LogisticRegression(max_iter=10000);\n",
    "model.fit(com7_train,y_train) \n",
    "\n",
    "pred_train=model.predict_proba(com7_train)[:,1]\n",
    "pred_val=model.predict_proba(com7_val)[:,1]\n",
    "print(\"7 components: \",np.round(log_loss(y_train,pred_train),4),np.round(log_loss(y_val,pred_val),4))"
   ]
  },
  {
   "cell_type": "markdown",
   "id": "003eaa81-a8e3-47da-8446-9eb3e54bab6c",
   "metadata": {},
   "source": [
    "Not bad, and there is no overfit. As we add more features, one can expect that overfitting will be an issue.\n",
    "\n",
    "Let's check how good are the predictions with increasingly large numbers of principal components. For this, we will use cross validation:"
   ]
  },
  {
   "cell_type": "code",
   "execution_count": 104,
   "id": "c6100e48-fbbe-4a8c-a0ff-aeb1585cb37f",
   "metadata": {},
   "outputs": [],
   "source": [
    "LogLoss = make_scorer(log_loss, greater_is_better=False, needs_proba=True)\n",
    "cv = KFold(n_splits=5, random_state=55, shuffle=True)"
   ]
  },
  {
   "cell_type": "code",
   "execution_count": 73,
   "id": "13063f33-fa0f-4bb7-976c-1e592e92b7a7",
   "metadata": {},
   "outputs": [],
   "source": [
    "pca_list= [10,25,50,75,100,150,200,300,400,500,1000]\n",
    "res_train=[]\n",
    "\n",
    "for number_components in pca_list:\n",
    "    xtrain = X_train_pca[:,:number_components]\n",
    "    temp=[]\n",
    "    for C in [1,0.5,0.1,0.05,0.01]: # The lower the C value, the stronger the regularization\n",
    "        log_reg = LogisticRegression(C=C,max_iter=10000);\n",
    "        sc=cross_val_score(log_reg,xtrain,y_train,scoring=LogLoss,cv=cv,n_jobs=-1)\n",
    "        temp.append(np.round(np.mean(-1.0*sc),4))\n",
    "    res_train.append(temp)"
   ]
  },
  {
   "cell_type": "code",
   "execution_count": 74,
   "id": "b6244d6f-3bf3-469e-bf59-82b9696572ce",
   "metadata": {},
   "outputs": [],
   "source": [
    "res_train=pd.DataFrame(res_train)"
   ]
  },
  {
   "cell_type": "code",
   "execution_count": 75,
   "id": "a5628efd-5719-41c4-b826-596b2fb2ca34",
   "metadata": {},
   "outputs": [
    {
     "data": {
      "image/png": "[encoded data removed]",
      "text/plain": [
       "<Figure size 720x576 with 1 Axes>"
      ]
     },
     "metadata": {
      "needs_background": "light"
     },
     "output_type": "display_data"
    }
   ],
   "source": [
    "c=['black','darkblue','blue','red','darkred']\n",
    "plt.figure(figsize=(10,8))\n",
    "for i in range(5):\n",
    "    plt.plot(pca_list,res_train.iloc[:,i],color=c[i]);"
   ]
  },
  {
   "cell_type": "markdown",
   "id": "2d299b4c-33b8-465f-995b-14638dbfe915",
   "metadata": {},
   "source": [
    "For the curve with low regularization (black curve), the score drops significantly at the beginning and as the number of components increases, the model starts overfitting, and the score gets worse. A clear minimum is found around 75 components. When regularization is stronger, one can postpone overfitting and get an extra boost in the score by using many more features. Too much overfitting does not help either, so there is a middle ground here.\n",
    "\n",
    "So there are 2 routes one can follow here. Maximize the score using a few components, or using all features and strongly regularize. Let's see the final validation score on each case.\n",
    "\n",
    "### Using a few features\n",
    "\n",
    "Let's first optimize the number of ideal features."
   ]
  },
  {
   "cell_type": "code",
   "execution_count": 76,
   "id": "1f7faa50-b38e-4342-8a59-137f2e96028d",
   "metadata": {},
   "outputs": [
    {
     "name": "stdout",
     "output_type": "stream",
     "text": [
      "50 -0.5337\n",
      "60 -0.5335\n",
      "70 -0.5327\n",
      "80 -0.5332\n",
      "90 -0.5332\n",
      "100 -0.5334\n",
      "110 -0.5337\n",
      "120 -0.534\n",
      "130 -0.534\n"
     ]
    }
   ],
   "source": [
    "chosen=[50,60,70,80,90,100,110,120,130]\n",
    "for number_components in chosen:\n",
    "    xtrain = X_train_pca[:,:number_components]\n",
    "    xval = X_val_pca[:,:number_components]\n",
    "    log_reg = LogisticRegression(C=1,max_iter=10000);\n",
    "    sc=cross_val_score(log_reg,xtrain,y_train,scoring=LogLoss,cv=cv,n_jobs=-1)\n",
    "    print(number_components,np.round(np.mean(sc),4))"
   ]
  },
  {
   "cell_type": "markdown",
   "id": "c148f997-7e3b-4178-bf4e-c8fe96332bc4",
   "metadata": {},
   "source": [
    "So 80 components seem to be ideal. Now let's optimize and calculate the validation score:"
   ]
  },
  {
   "cell_type": "code",
   "execution_count": 77,
   "id": "3b4b605b-648b-4976-b6e4-442ebc9337c0",
   "metadata": {},
   "outputs": [
    {
     "name": "stdout",
     "output_type": "stream",
     "text": [
      "        params  mean_test_score  std_test_score\n",
      "0     {'C': 1}        -0.533167        0.010165\n",
      "1   {'C': 0.5}        -0.533082        0.010069\n",
      "2   {'C': 0.1}        -0.532802        0.009495\n",
      "3  {'C': 0.05}        -0.532902        0.009056\n",
      "4  {'C': 0.01}        -0.535140        0.007968\n",
      "0.529 0.5288\n"
     ]
    }
   ],
   "source": [
    "number_components=80\n",
    "\n",
    "param_grid = { 'C' : [1,0.5,0.1,0.05,0.01]} \n",
    "\n",
    "xtrain = X_train_pca[:,:number_components]\n",
    "xval = X_val_pca[:,:number_components]\n",
    "\n",
    "log_reg = LogisticRegression(max_iter=10000);\n",
    "model = GridSearchCV(log_reg,param_grid,n_jobs=-1,cv=cv,scoring=LogLoss)\n",
    "model.fit(xtrain,y_train) \n",
    "\n",
    "pred_train=model.predict_proba(xtrain)[:,1]\n",
    "pred_val=model.predict_proba(xval)[:,1]\n",
    "print(pd.DataFrame(model.cv_results_)[['params','mean_test_score','std_test_score']])    \n",
    "print(np.round(log_loss(y_train,pred_train),4),np.round(log_loss(y_val,pred_val),4))"
   ]
  },
  {
   "cell_type": "markdown",
   "id": "aff2c0f2-4ddc-4297-b207-3317a918e388",
   "metadata": {},
   "source": [
    "A final validation score of 0.5305. Using 300 features, the second minimum found in the red curve:"
   ]
  },
  {
   "cell_type": "code",
   "execution_count": 78,
   "id": "872e3698-9dcc-4637-8da4-15b7c7e9abb5",
   "metadata": {},
   "outputs": [
    {
     "name": "stdout",
     "output_type": "stream",
     "text": [
      "        params  mean_test_score  std_test_score\n",
      "0  {'C': 0.05}        -0.531437        0.009337\n",
      "0.5212 0.5268\n"
     ]
    }
   ],
   "source": [
    "number_components=400\n",
    "\n",
    "param_grid = { 'C' : [0.05]} \n",
    "\n",
    "xtrain = X_train_pca[:,:number_components]\n",
    "xval = X_val_pca[:,:number_components]\n",
    "\n",
    "log_reg = LogisticRegression(max_iter=10000);\n",
    "model = GridSearchCV(log_reg,param_grid,n_jobs=-1,cv=cv,scoring=LogLoss)\n",
    "model.fit(xtrain,y_train) \n",
    "\n",
    "pred_train=model.predict_proba(xtrain)[:,1]\n",
    "pred_val=model.predict_proba(xval)[:,1]\n",
    "print(pd.DataFrame(model.cv_results_)[['params','mean_test_score','std_test_score']])    \n",
    "print(np.round(log_loss(y_train,pred_train),4),np.round(log_loss(y_val,pred_val),4))"
   ]
  },
  {
   "cell_type": "markdown",
   "id": "ea94a9f5-2cc3-40a8-a563-52167fe7bd78",
   "metadata": {},
   "source": [
    "Even better. Everything seems consistent so far. Let's check using all the features.\n",
    "\n",
    "### Using all features\n",
    "\n",
    "Forgetting about PCA, let's use the complete matrix. A grid-search is performed to look for the amount of regularization that optimizes the score."
   ]
  },
  {
   "cell_type": "code",
   "execution_count": 79,
   "id": "33a4549c-2605-4e7c-979e-b89e71755d33",
   "metadata": {
    "tags": []
   },
   "outputs": [
    {
     "name": "stdout",
     "output_type": "stream",
     "text": [
      "        params  mean_test_score  std_test_score\n",
      "0  {'C': 0.08}        -0.531881        0.010005\n",
      "1  {'C': 0.07}        -0.531657        0.009859\n",
      "2  {'C': 0.06}        -0.531491        0.009697\n",
      "3  {'C': 0.05}        -0.531403        0.009496\n",
      "4  {'C': 0.04}        -0.531451        0.009261\n",
      "5  {'C': 0.03}        -0.531718        0.008975\n"
     ]
    }
   ],
   "source": [
    "param_grid = { 'C' : [0.08,0.07,0.06,0.05,0.04,0.03]}\n",
    "\n",
    "log_reg = LogisticRegression(max_iter=10000);\n",
    "model = GridSearchCV(log_reg,param_grid,n_jobs=-1,cv=cv,scoring=LogLoss)\n",
    "model.fit(X_train,y_train)    \n",
    "print(pd.DataFrame(model.cv_results_)[['params','mean_test_score','std_test_score']])    "
   ]
  },
  {
   "cell_type": "markdown",
   "id": "38f780e2-4529-4f22-9538-e6d9ed3c20a0",
   "metadata": {},
   "source": [
    "A C value of 0.05 was found to be optimal. With this value, the score is:"
   ]
  },
  {
   "cell_type": "code",
   "execution_count": 80,
   "id": "021c735e-2143-495d-aed3-9a6f8d0425b6",
   "metadata": {},
   "outputs": [
    {
     "name": "stdout",
     "output_type": "stream",
     "text": [
      "0.5139 0.5267\n"
     ]
    }
   ],
   "source": [
    "pred_train=model.predict_proba(X_train)[:,1]\n",
    "pred_val=model.predict_proba(X_val)[:,1]\n",
    "print(np.round(log_loss(y_train,pred_train),4),np.round(log_loss(y_val,pred_val),4))"
   ]
  },
  {
   "cell_type": "markdown",
   "id": "f7784025-45e9-48be-980e-71147e527b25",
   "metadata": {},
   "source": [
    "0.529, a bit less then before. But the difference is not that large. Both routes will be considered again next.\n",
    "\n",
    "More can be done here but it seems more productive to spend more time engineering each submission instead.\n",
    "\n",
    "## Shifting and scaling the submissions\n",
    "\n",
    "Let's repeat the previous analysis applying the already presented and discussed changes in the submissions.\n",
    "\n",
    "### Shifting and restoring - scale 1"
   ]
  },
  {
   "cell_type": "code",
   "execution_count": 81,
   "id": "7d26803f-cf9d-48e2-b9c8-c357a7a4c8e4",
   "metadata": {},
   "outputs": [
    {
     "name": "stdout",
     "output_type": "stream",
     "text": [
      "count    1.457000e+03\n",
      "mean     6.863418e-04\n",
      "std      2.162152e-02\n",
      "min      2.265859e-07\n",
      "25%      1.496405e-05\n",
      "50%      2.843816e-05\n",
      "75%      5.951575e-05\n",
      "max      8.247158e-01\n",
      "dtype: float64\n"
     ]
    }
   ],
   "source": [
    "scale=1\n",
    "\n",
    "X2_train=shift_norm_rest(X_train,scale)\n",
    "X2_val=shift_norm_rest(X_val,scale)\n",
    "\n",
    "pca = PCA()\n",
    "X2_train_pca = pca.fit_transform(X2_train)\n",
    "X2_val_pca = pca.transform(X2_val)\n",
    "explained_variance = pd.Series(pca.explained_variance_ratio_)\n",
    "print(explained_variance.describe())"
   ]
  },
  {
   "cell_type": "code",
   "execution_count": 82,
   "id": "8419a1eb-ea79-4251-8b40-70288bc300a1",
   "metadata": {},
   "outputs": [
    {
     "data": {
      "image/png": "[encoded data removed]",
      "text/plain": [
       "<Figure size 864x432 with 2 Axes>"
      ]
     },
     "metadata": {
      "needs_background": "light"
     },
     "output_type": "display_data"
    }
   ],
   "source": [
    "f,ax = plt.subplots(nrows=1,ncols=2,figsize=(12,6))\n",
    "ax[0].plot(explained_variance);\n",
    "ax[0].set_ylim(0,0.001);\n",
    "ax[1].plot(np.cumsum(explained_variance));"
   ]
  },
  {
   "cell_type": "markdown",
   "id": "e319c076-8ad7-4ea6-931b-4da3763cde70",
   "metadata": {},
   "source": [
    "A very similar plot as before, starting with 84% with a single component and 99% at around 1000 components."
   ]
  },
  {
   "cell_type": "code",
   "execution_count": 83,
   "id": "e15afaf7-599a-4f32-b202-3f29d0271e24",
   "metadata": {
    "tags": []
   },
   "outputs": [
    {
     "name": "stdout",
     "output_type": "stream",
     "text": [
      "10  finished.\n",
      "25  finished.\n",
      "50  finished.\n",
      "75  finished.\n",
      "100  finished.\n",
      "150  finished.\n",
      "200  finished.\n",
      "300  finished.\n",
      "400  finished.\n",
      "500  finished.\n",
      "1000  finished.\n"
     ]
    }
   ],
   "source": [
    "res_train=[]\n",
    "\n",
    "for number_components in pca_list:\n",
    "    xtrain = X2_train_pca[:,:number_components]\n",
    "    temp=[]\n",
    "    for C in [10,1,0.5,0.1,0.05,0.01]: # The lower the C value, the stronger the regularization\n",
    "        log_reg = LogisticRegression(C=C,max_iter=10000);\n",
    "        sc=cross_val_score(log_reg,xtrain,y_train,scoring=LogLoss,cv=cv,n_jobs=-1)\n",
    "        temp.append(np.round(np.mean(-1.0*sc),4))\n",
    "    res_train.append(temp)\n",
    "    print(number_components,\" finished.\")"
   ]
  },
  {
   "cell_type": "code",
   "execution_count": 84,
   "id": "2bd29dee-793a-4ed0-9198-a021289ab014",
   "metadata": {
    "tags": []
   },
   "outputs": [
    {
     "data": {
      "image/png": "[encoded data removed]",
      "text/plain": [
       "<Figure size 720x576 with 1 Axes>"
      ]
     },
     "metadata": {
      "needs_background": "light"
     },
     "output_type": "display_data"
    }
   ],
   "source": [
    "res_train=pd.DataFrame(res_train)\n",
    "\n",
    "c=['black','darkblue','blue','green','red','darkred']\n",
    "plt.figure(figsize=(10,8))\n",
    "for i in range(6):\n",
    "    plt.plot(pca_list,res_train.iloc[:,i],color=c[i]);"
   ]
  },
  {
   "cell_type": "markdown",
   "id": "1dc098df-4f93-46fd-9156-bbf0bdd288e6",
   "metadata": {},
   "source": [
    "Now one needs a larger C value to suppress the regularization, 10 or even higher. A clear minimum is found again at around 75 components. Regularizing with C between 0.05 and 0.1 gives the best score, using 250 or 500 components. One could also use all components with C equal to 0.05. Let's check the validation score on each of these cases:"
   ]
  },
  {
   "cell_type": "code",
   "execution_count": 85,
   "id": "8176a1cf-01f2-4845-9ad2-a951172627d6",
   "metadata": {},
   "outputs": [
    {
     "name": "stdout",
     "output_type": "stream",
     "text": [
      "0.529 0.5276\n"
     ]
    }
   ],
   "source": [
    "# Using a few features\n",
    "number_components=80\n",
    "\n",
    "param_grid = { 'C' : [0.07,0.05]} # Just check if regularizing less can improve a bit\n",
    "\n",
    "xtrain = X2_train_pca[:,:number_components]\n",
    "xval = X2_val_pca[:,:number_components]\n",
    "\n",
    "log_reg = LogisticRegression(max_iter=10000);\n",
    "model = GridSearchCV(log_reg,param_grid,n_jobs=-1,cv=cv,scoring=LogLoss)\n",
    "model.fit(xtrain,y_train) \n",
    "\n",
    "pred_train=model.predict_proba(xtrain)[:,1]\n",
    "pred_val=model.predict_proba(xval)[:,1]\n",
    "print(np.round(log_loss(y_train,pred_train),4),np.round(log_loss(y_val,pred_val),4))"
   ]
  },
  {
   "cell_type": "code",
   "execution_count": 86,
   "id": "3a9b2619-3c67-49bc-9ff8-ed39ab39c6f7",
   "metadata": {},
   "outputs": [
    {
     "name": "stdout",
     "output_type": "stream",
     "text": [
      "0.5248 0.5258\n"
     ]
    }
   ],
   "source": [
    "# Using 200 features\n",
    "number_components=200\n",
    "\n",
    "param_grid = { 'C' : [0.07,0.05]} # Just check if regularizing less can improve a bit\n",
    "\n",
    "xtrain = X2_train_pca[:,:number_components]\n",
    "xval = X2_val_pca[:,:number_components]\n",
    "\n",
    "log_reg = LogisticRegression(max_iter=10000);\n",
    "model = GridSearchCV(log_reg,param_grid,n_jobs=-1,cv=cv,scoring=LogLoss)\n",
    "model.fit(xtrain,y_train) \n",
    "\n",
    "pred_train=model.predict_proba(xtrain)[:,1]\n",
    "pred_val=model.predict_proba(xval)[:,1]\n",
    "print(np.round(log_loss(y_train,pred_train),4),np.round(log_loss(y_val,pred_val),4))"
   ]
  },
  {
   "cell_type": "code",
   "execution_count": 87,
   "id": "fb442aa5-df8a-42b4-b36f-fdd3fc9a9530",
   "metadata": {},
   "outputs": [
    {
     "name": "stdout",
     "output_type": "stream",
     "text": [
      "0.5198 0.5262\n"
     ]
    }
   ],
   "source": [
    "# Using 500 features\n",
    "number_components=500\n",
    "\n",
    "param_grid = { 'C' : [0.07,0.05]} # Just check if regularizing less can improve a bit\n",
    "\n",
    "xtrain = X2_train_pca[:,:number_components]\n",
    "xval = X2_val_pca[:,:number_components]\n",
    "\n",
    "log_reg = LogisticRegression(max_iter=10000);\n",
    "model = GridSearchCV(log_reg,param_grid,n_jobs=-1,cv=cv,scoring=LogLoss)\n",
    "model.fit(xtrain,y_train) \n",
    "\n",
    "pred_train=model.predict_proba(xtrain)[:,1]\n",
    "pred_val=model.predict_proba(xval)[:,1]\n",
    "print(np.round(log_loss(y_train,pred_train),4),np.round(log_loss(y_val,pred_val),4))"
   ]
  },
  {
   "cell_type": "code",
   "execution_count": 88,
   "id": "0f7a5492-4e9e-464c-939f-a871f375a0cd",
   "metadata": {},
   "outputs": [
    {
     "name": "stdout",
     "output_type": "stream",
     "text": [
      "        params  mean_test_score  std_test_score\n",
      "0  {'C': 0.07}        -0.530771        0.009341\n",
      "1  {'C': 0.05}        -0.530966        0.009015\n",
      "0.514 0.5259\n"
     ]
    }
   ],
   "source": [
    "# Using all features\n",
    "param_grid = { 'C' : [0.07,0.05]}\n",
    "\n",
    "log_reg = LogisticRegression(max_iter=10000);\n",
    "model = GridSearchCV(log_reg,param_grid,n_jobs=-1,cv=cv,scoring=LogLoss)\n",
    "model.fit(X2_train,y_train)    \n",
    "print(pd.DataFrame(model.cv_results_)[['params','mean_test_score','std_test_score']])    \n",
    "\n",
    "pred_train=model.predict_proba(X2_train)[:,1]\n",
    "pred_val=model.predict_proba(X2_val)[:,1]\n",
    "print(np.round(log_loss(y_train,pred_train),4),np.round(log_loss(y_val,pred_val),4))"
   ]
  },
  {
   "cell_type": "markdown",
   "id": "2c553744-f38c-46b4-a7f3-46b8bb578c2f",
   "metadata": {},
   "source": [
    "Better than before, by almost 0.02 points. Again, using all components is similar to using 500 components. The overall improvement was not a lot, though. Let's assume the same parameters will hold for other scale values and repeat this analysis, taken into account only the complete dataset. \n",
    "\n",
    "### Shifting and restoring - reducing the scale\n",
    "\n",
    "Using all features, and reducing the scale:"
   ]
  },
  {
   "cell_type": "code",
   "execution_count": 89,
   "id": "d03e6759-d15c-4324-bc30-a0f8425635ce",
   "metadata": {},
   "outputs": [
    {
     "name": "stdout",
     "output_type": "stream",
     "text": [
      "Scale 1.0 Train/Val Scores: 0.514 0.5259\n",
      "Scale 0.95 Train/Val Scores: 0.515 0.5259\n",
      "Scale 0.9 Train/Val Scores: 0.516 0.5259\n",
      "Scale 0.85 Train/Val Scores: 0.5171 0.526\n"
     ]
    }
   ],
   "source": [
    "# Using all features: changing the scale\n",
    "param_grid = { 'C' : [0.07,0.05]}\n",
    "\n",
    "for scale in np.arange(1,0.80,-0.05):\n",
    "    X2_train=shift_norm_rest(X_train,scale)\n",
    "    X2_val=shift_norm_rest(X_val,scale)   \n",
    "    \n",
    "    log_reg = LogisticRegression(max_iter=10000);\n",
    "    model = GridSearchCV(log_reg,param_grid,n_jobs=-1,cv=cv,scoring=LogLoss)\n",
    "    model.fit(X2_train,y_train) \n",
    "\n",
    "    pred_train=model.predict_proba(X2_train)[:,1]\n",
    "    pred_val=model.predict_proba(X2_val)[:,1]\n",
    "    print(\"Scale\",np.round(scale,2),\n",
    "          \"Train/Val Scores:\",np.round(log_loss(y_train,pred_train),4),np.round(log_loss(y_val,pred_val),4))"
   ]
  },
  {
   "cell_type": "markdown",
   "id": "96b2054a-d1e5-4f0d-8adf-f591dd348f8c",
   "metadata": {},
   "source": [
    "A small improvement.\n",
    "\n",
    "### Catboost\n",
    "\n",
    "For comparison, let's try a tree method, namely CatBoost, that has proven to give a very good performance in several different cases. A previous grid search was performed in another notebook, a very small one is made here just for illustration:"
   ]
  },
  {
   "cell_type": "code",
   "execution_count": 107,
   "id": "7cab50ad-ab03-46e6-af4e-6f4ae452eb72",
   "metadata": {},
   "outputs": [
    {
     "name": "stdout",
     "output_type": "stream",
     "text": [
      "                                    params  mean_test_score  std_test_score\n",
      "0  {'learning_rate': 0.05, 'max_depth': 2}        -0.527375        0.006334\n",
      "1  {'learning_rate': 0.05, 'max_depth': 3}        -0.526915        0.005608\n",
      "2  {'learning_rate': 0.05, 'max_depth': 4}        -0.526128        0.005704\n",
      "3  {'learning_rate': 0.08, 'max_depth': 2}        -0.527014        0.006507\n",
      "4  {'learning_rate': 0.08, 'max_depth': 3}        -0.527296        0.006180\n",
      "5  {'learning_rate': 0.08, 'max_depth': 4}        -0.526504        0.006333\n",
      "0.5098\n"
     ]
    }
   ],
   "source": [
    "param_grid = { 'max_depth'         : [2,3,4],\n",
    "               'learning_rate'     : [0.05,0.08] }\n",
    "catboost = CatBoostClassifier(silent=True,od_type = \"Iter\",od_wait = 25,n_estimators=200);\n",
    "model = GridSearchCV(catboost,param_grid,n_jobs=-1,cv=cv,scoring=LogLoss)\n",
    "model.fit(X,y)    \n",
    "pred=model.predict_proba(X)[:,1]\n",
    "\n",
    "print(pd.DataFrame(model.cv_results_)[['params','mean_test_score','std_test_score']])    \n",
    "print(np.round(log_loss(y,pred),4))"
   ]
  },
  {
   "cell_type": "code",
   "execution_count": 108,
   "id": "02a45bd0-1ccb-4a21-bc12-8a00d2a21771",
   "metadata": {},
   "outputs": [],
   "source": [
    "scale=1\n",
    "X_sc=shift_norm_rest(X,scale)\n",
    "X_sc_test=shift_norm_rest(X_test,scale)"
   ]
  },
  {
   "cell_type": "code",
   "execution_count": 109,
   "id": "b954f94c-0a62-4999-9656-58626e627b67",
   "metadata": {},
   "outputs": [
    {
     "name": "stdout",
     "output_type": "stream",
     "text": [
      "                                    params  mean_test_score  std_test_score\n",
      "0  {'learning_rate': 0.05, 'max_depth': 2}        -0.526721        0.005594\n",
      "1  {'learning_rate': 0.05, 'max_depth': 3}        -0.526667        0.006263\n",
      "2  {'learning_rate': 0.05, 'max_depth': 4}        -0.526192        0.005778\n",
      "3  {'learning_rate': 0.08, 'max_depth': 2}        -0.527286        0.006010\n",
      "4  {'learning_rate': 0.08, 'max_depth': 3}        -0.526730        0.006216\n",
      "5  {'learning_rate': 0.08, 'max_depth': 4}        -0.527439        0.006519\n",
      "0.5091\n"
     ]
    }
   ],
   "source": [
    "param_grid = { 'max_depth'         : [2,3,4],\n",
    "               'learning_rate'     : [0.05,0.08] }\n",
    "catboost = CatBoostClassifier(silent=True,od_type = \"Iter\",od_wait = 25,n_estimators=200);\n",
    "model2 = GridSearchCV(catboost,param_grid,n_jobs=-1,cv=cv,scoring=LogLoss)\n",
    "model2.fit(X_sc,y)    \n",
    "pred=model2.predict_proba(X_sc)[:,1]\n",
    "\n",
    "print(pd.DataFrame(model2.cv_results_)[['params','mean_test_score','std_test_score']])    \n",
    "print(np.round(log_loss(y,pred),4))"
   ]
  },
  {
   "cell_type": "markdown",
   "id": "7452d54b-5800-425a-ab1a-538f806083b5",
   "metadata": {},
   "source": [
    "Better, and one can expect a bit of overfit. But nothing too dramatic.\n",
    "\n",
    "From this point on, more can be done, using more, less or even dropping the validation set in order to use the complete dataset and try to improve the final score. However, for this particular competition I had much less time than I would have liked, and stopped the analysis here."
   ]
  },
  {
   "cell_type": "markdown",
   "id": "c2833c1a-e957-48ac-8ac4-453d133bf332",
   "metadata": {},
   "source": [
    "## Submission"
   ]
  },
  {
   "cell_type": "code",
   "execution_count": 111,
   "id": "d8a7aff4-591f-4156-b11b-da6ffcea9462",
   "metadata": {},
   "outputs": [],
   "source": [
    "pred=pd.DataFrame(model2.predict_proba(X_sc_test)[:,1],index=X_test.index,columns=['pred'])\n",
    "pred.to_csv('Ultima4_scaled.csv')"
   ]
  }
 ],
 "metadata": {
  "kernelspec": {
   "display_name": "Python 3 (ipykernel)",
   "language": "python",
   "name": "python3"
  },
  "language_info": {
   "codemirror_mode": {
    "name": "ipython",
    "version": 3
   },
   "file_extension": ".py",
   "mimetype": "text/x-python",
   "name": "python",
   "nbconvert_exporter": "python",
   "pygments_lexer": "ipython3",
   "version": "3.7.11"
  }
 },
 "nbformat": 4,
 "nbformat_minor": 5
}
